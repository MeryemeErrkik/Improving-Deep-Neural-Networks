{
 "cells": [
  {
   "cell_type": "code",
   "execution_count": 1,
   "metadata": {},
   "outputs": [
    {
     "name": "stderr",
     "output_type": "stream",
     "text": [
      "Using TensorFlow backend.\n"
     ]
    }
   ],
   "source": [
    "import numpy as np\n",
    "import matplotlib.pyplot as plt\n",
    "from keras.utils import to_categorical\n",
    "import sys\n",
    "import math\n",
    "import tensorflow as tf"
   ]
  },
  {
   "cell_type": "code",
   "execution_count": 2,
   "metadata": {},
   "outputs": [],
   "source": [
    "from keras.datasets import fashion_mnist"
   ]
  },
  {
   "cell_type": "code",
   "execution_count": 3,
   "metadata": {},
   "outputs": [],
   "source": [
    "((Xtrain_o, Ytrain_o), (Xtest_o, Ytest_o)) = fashion_mnist.load_data()"
   ]
  },
  {
   "cell_type": "code",
   "execution_count": 4,
   "metadata": {},
   "outputs": [
    {
     "name": "stdout",
     "output_type": "stream",
     "text": [
      "(60000, 28, 28)\n",
      "(10000, 28, 28)\n",
      "(60000,)\n",
      "(10000,)\n"
     ]
    }
   ],
   "source": [
    "print(Xtrain_o.shape)\n",
    "print(Xtest_o.shape)\n",
    "print(Ytrain_o.shape)\n",
    "print(Ytest_o.shape)"
   ]
  },
  {
   "cell_type": "code",
   "execution_count": 5,
   "metadata": {},
   "outputs": [],
   "source": [
    "X_train=Xtrain_o.reshape(Xtrain_o.shape[0],28*28)\n",
    "X_test=Xtest_o.reshape(Xtest_o.shape[0],28*28)\n",
    "Y_train=Ytrain_o\n",
    "Y_test=Ytest_o"
   ]
  },
  {
   "cell_type": "code",
   "execution_count": 6,
   "metadata": {},
   "outputs": [],
   "source": [
    "labels=[\"T-shirt/top\",\"Trouser\",\"Pullover\",\"Dress\",\"Coat\",\"Sandal\",\"Shirt\",\"Sneaker\",\"Bag\",\"Ankle boot\"]"
   ]
  },
  {
   "cell_type": "code",
   "execution_count": 7,
   "metadata": {},
   "outputs": [],
   "source": [
    "X_train=(X_train-X_train.mean())/255\n",
    "X_test= (X_test-X_test.mean())/255\n",
    "Y_train = to_categorical(Y_train,10)\n",
    "Y_test = to_categorical(Y_test,10)"
   ]
  },
  {
   "cell_type": "code",
   "execution_count": 8,
   "metadata": {},
   "outputs": [],
   "source": [
    "X_train=X_train.T\n",
    "X_test=X_test.T\n",
    "Y_train=Y_train.T\n",
    "Y_test=Y_test.T"
   ]
  },
  {
   "cell_type": "code",
   "execution_count": 9,
   "metadata": {},
   "outputs": [
    {
     "name": "stdout",
     "output_type": "stream",
     "text": [
      "(784, 60000)\n",
      "(784, 10000)\n",
      "(10, 60000)\n",
      "(10, 10000)\n"
     ]
    }
   ],
   "source": [
    "print(X_train.shape)\n",
    "print(X_test.shape)\n",
    "print(Y_train.shape)\n",
    "print(Y_test.shape)"
   ]
  },
  {
   "cell_type": "code",
   "execution_count": 10,
   "metadata": {},
   "outputs": [
    {
     "name": "stdout",
     "output_type": "stream",
     "text": [
      "It's a picture of a(n) Shirt\n"
     ]
    },
    {
     "data": {
      "image/png": "[encoded data removed]",
      "text/plain": [
       "<Figure size 720x144 with 1 Axes>"
      ]
     },
     "metadata": {
      "needs_background": "light"
     },
     "output_type": "display_data"
    }
   ],
   "source": [
    "s=np.random.randint(60000, size=1)\n",
    "Y=X_train.T[s]\n",
    "Y_img=np.array(Y)\n",
    "plt.figure(figsize = (10,2))\n",
    "Y_img=Y_img.reshape(28,28)\n",
    "plt.imshow(Y_img)\n",
    "print(\"It's a picture of a(n)\",labels[int(Ytrain_o[s])])"
   ]
  },
  {
   "cell_type": "markdown",
   "metadata": {},
   "source": [
    "# I-Simple Neural network:#"
   ]
  },
  {
   "cell_type": "markdown",
   "metadata": {},
   "source": [
    "![title](https://www.researchgate.net/profile/Facundo_Bre/publication/321259051/figure/fig1/AS:614329250496529@1523478915726/Artificial-neural-network-architecture-ANN-i-h-1-h-2-h-n-o.png)"
   ]
  },
  {
   "cell_type": "markdown",
   "metadata": {},
   "source": [
    "**Useful functions(Sigmoid,ReLU,sigmoid_backward,ReLU_backward):**"
   ]
  },
  {
   "cell_type": "code",
   "execution_count": 11,
   "metadata": {},
   "outputs": [],
   "source": [
    "def relu(Z):\n",
    "    \n",
    "\n",
    "    A = np.maximum(0, Z)\n",
    "\n",
    "    assert (A.shape == Z.shape)\n",
    "\n",
    "    cache = Z\n",
    "    return A, cache\n",
    "\n",
    "\n",
    "def sigmoid(Z):\n",
    "  \n",
    "    # A = 1 / (1 + np.exp(-Z))\n",
    "    Z = np.clip(Z, -709, 36)\n",
    "    A = expit(Z)\n",
    "    if np.max(A) == 1:\n",
    "        print('whats the fuck')\n",
    "    cache = Z\n",
    "\n",
    "    return A, cache\n",
    "\n",
    "\n",
    "def softmax(Z):\n",
    "    # e_x = np.exp(Z - np.max(Z))\n",
    "    # A = e_x / e_x.sum()\n",
    "    Z = np.clip(Z, -709, 709)\n",
    "    T = np.exp(Z)\n",
    "    A = T / np.sum(T, axis=0)\n",
    "    cache = Z\n",
    "    return A, cache\n",
    "\n",
    "\n",
    "def softmax_backward(dA, cache):\n",
    "    dZ = dA\n",
    "    return dZ\n",
    "\n",
    "\n",
    "def relu_backward(dA, cache):\n",
    "   \n",
    "\n",
    "    Z = cache[0]\n",
    "    dZ = np.array(dA, copy=True)  # just converting dz to a correct object.\n",
    "\n",
    "    # When z <= 0, you should set dz to 0 as well.\n",
    "    dZ[Z <= 0] = 0\n",
    "\n",
    "    assert (dZ.shape == Z.shape)\n",
    "    return dZ\n",
    "\n",
    "\n",
    "def sigmoid_backward(dA, cache):\n",
    "\n",
    "\n",
    "    Z = cache\n",
    "\n",
    "    # s = 1 / (1 + np.exp(-Z))\n",
    "    s = expit(Z)\n",
    "    dZ = dA * s * (1 - s)\n",
    "\n",
    "    assert (dZ.shape == Z.shape)\n",
    "\n",
    "    return dZ\n"
   ]
  },
  {
   "cell_type": "markdown",
   "metadata": {},
   "source": [
    "**Initializing Parameters:**"
   ]
  },
  {
   "cell_type": "code",
   "execution_count": 12,
   "metadata": {},
   "outputs": [],
   "source": [
    "def initialize_parameters_deep(layer_dims):\n",
    "    parameters = {}\n",
    "    L = len(layer_dims)  # number of layers in the network\n",
    "\n",
    "    for l in range(1, L):\n",
    "        parameters['W' + str(l)] = np.random.randn(layer_dims[l], layer_dims[l - 1]) * 0.01\n",
    "        parameters['b' + str(l)] = np.zeros((layer_dims[l], 1))\n",
    "\n",
    "        assert (parameters['W' + str(l)].shape == (layer_dims[l], layer_dims[l - 1]))\n",
    "        assert (parameters['b' + str(l)].shape == (layer_dims[l], 1))\n",
    "\n",
    "    return parameters\n",
    "\n",
    "\n",
    "def initialize_parameters_he(layers_dims):\n",
    "\n",
    "    parameters = {}\n",
    "    L = len(layers_dims) - 1  # integer representing the number of layers\n",
    "\n",
    "    for l in range(1, L + 1):\n",
    "        parameters['W' + str(l)] = np.random.randn(layers_dims[l], layers_dims[l - 1]) * np.sqrt(\n",
    "            2.0 / layers_dims[l - 1])\n",
    "        parameters['b' + str(l)] = np.zeros((layers_dims[l], 1))\n",
    "\n",
    "    return parameters\n"
   ]
  },
  {
   "cell_type": "markdown",
   "metadata": {},
   "source": [
    "# Forward and Backward Propagation:#"
   ]
  },
  {
   "cell_type": "markdown",
   "metadata": {},
   "source": [
    "![title](https://qph.fs.quoracdn.net/main-qimg-e599270915026aeb9b5e47cb95e8097c)"
   ]
  },
  {
   "cell_type": "markdown",
   "metadata": {},
   "source": [
    "**Forward Propagation:**"
   ]
  },
  {
   "cell_type": "code",
   "execution_count": 13,
   "metadata": {},
   "outputs": [],
   "source": [
    "def linear_forward(A, W, b):\n",
    "    \n",
    "    Z = np.dot(W, A) + b\n",
    "    assert (Z.shape == (W.shape[0], A.shape[1]))\n",
    "    cache = (A, W, b)\n",
    "\n",
    "    return Z, cache\n"
   ]
  },
  {
   "cell_type": "code",
   "execution_count": 14,
   "metadata": {},
   "outputs": [],
   "source": [
    "def linear_activation_forward(A_prev, W, b, activation, keep_prob=1.0):\n",
    "    if activation == \"sigmoid\":\n",
    "        Z, linear_cache = linear_forward(A_prev, W, b)\n",
    "        A, activation_cache = sigmoid(Z)\n",
    "    elif activation == \"softmax\":\n",
    "        Z, linear_cache = linear_forward(A_prev, W, b)\n",
    "        A, activation_cache = softmax(Z)\n",
    "    elif activation == \"relu\":\n",
    "        Z, linear_cache = linear_forward(A_prev, W, b)\n",
    "        A, activation_cache = relu(Z)\n",
    "        D = np.random.rand(A.shape[0], A.shape[1])\n",
    "        D = D <= keep_prob\n",
    "        A = A * D\n",
    "        A = A / keep_prob\n",
    "        activation_cache = [activation_cache, D]\n",
    "\n",
    "    assert (A.shape == (W.shape[0], A_prev.shape[1]))\n",
    "    cache = (linear_cache, activation_cache)\n",
    "    return A, cache"
   ]
  },
  {
   "cell_type": "code",
   "execution_count": 15,
   "metadata": {},
   "outputs": [],
   "source": [
    "def L_model_forward(X, parameters, keep_prob=1.0):\n",
    "    caches = []\n",
    "    A = X\n",
    "    L = len(parameters) // 2  # number of layers in the neural network\n",
    "\n",
    "    # Implement [LINEAR -> RELU]*(L-1). Add \"cache\" to the \"caches\" list.\n",
    "    for l in range(1, L):\n",
    "        A_prev = A\n",
    "        A, cache = linear_activation_forward(A_prev, parameters['W' + str(l)], parameters['b' + str(l)],\n",
    "                                             activation=\"relu\", keep_prob=keep_prob)\n",
    "        caches.append(cache)\n",
    "\n",
    "    # Implement LINEAR -> SIGMOID. Add \"cache\" to the \"caches\" list.\n",
    "    ### START CODE HERE ### (≈ 2 lines of code)\n",
    "    AL, cache = linear_activation_forward(A, parameters['W' + str(L)], parameters['b' + str(L)], activation=\"softmax\")\n",
    "    caches.append(cache)\n",
    "    ### END CODE HERE ###\n",
    "\n",
    "    assert (AL.shape[1] == X.shape[1])\n",
    "\n",
    "    return AL, caches"
   ]
  },
  {
   "cell_type": "markdown",
   "metadata": {},
   "source": [
    "**Cost Function:**"
   ]
  },
  {
   "cell_type": "code",
   "execution_count": 16,
   "metadata": {},
   "outputs": [],
   "source": [
    "def compute_cost_softmax_with_reg(AL, parameters, lambd, Y):\n",
    "    m = Y.shape[1]\n",
    "    # Compute the L2 regularization.\n",
    "    L = len(parameters) // 2  # number of layers in the neural network\n",
    "    L2_regularization_cost = 0\n",
    "    for l in range(1, L):\n",
    "        Wl = parameters['W' + str(l)]\n",
    "        L2_regularization_cost = L2_regularization_cost + np.sum(np.square(Wl))\n",
    "    L2_regularization_cost = (lambd / (2 * m)) * L2_regularization_cost\n",
    "    # Compute loss from aL and y.\n",
    "    cc1 = np.log(AL)\n",
    "    logprobs = np.multiply(cc1, Y)\n",
    "    cost = (-1 / m) * np.nansum(logprobs)\n",
    "    cost = cost + L2_regularization_cost\n",
    "    cost = np.squeeze(cost)  # To make sure the shape is what we expect\n",
    "    assert (cost.shape == ())\n",
    "    return cost"
   ]
  },
  {
   "cell_type": "markdown",
   "metadata": {},
   "source": [
    "**Backward Propagation:**"
   ]
  },
  {
   "cell_type": "code",
   "execution_count": 17,
   "metadata": {},
   "outputs": [],
   "source": [
    "def linear_backward(dZ, cache, lambd):\n",
    "    # here the cache is not the caches from forward, but caches[l][0], which is a tuple of (A_prev, W, b). where caches[l][1] is cached Z.\n",
    "    A_prev, W, b = cache\n",
    "\n",
    "    m = A_prev.shape[1]\n",
    "\n",
    "    dW = (1.0 / m) * np.dot(dZ, A_prev.T) + (lambd / m) * W\n",
    "    db = (1.0 / m) * np.sum(dZ, axis=1, keepdims=True)\n",
    "    dA_prev = np.dot(W.T, dZ)\n",
    "\n",
    "    assert (dA_prev.shape == A_prev.shape)\n",
    "    assert (dW.shape == W.shape)\n",
    "    assert (db.shape == b.shape)\n",
    "\n",
    "    return dA_prev, dW, db"
   ]
  },
  {
   "cell_type": "code",
   "execution_count": 18,
   "metadata": {},
   "outputs": [],
   "source": [
    "def linear_activation_backward(dA, cache, activation, lambd, keep_prob=1.0):\n",
    "    linear_cache, activation_cache = cache\n",
    "\n",
    "    if activation == \"relu\":\n",
    "        D = activation_cache[1]\n",
    "        dA = dA * D\n",
    "        dA = dA / keep_prob\n",
    "        dZ = relu_backward(dA=dA, cache=activation_cache)\n",
    "        dA_prev, dW, db = linear_backward(cache=linear_cache, dZ=dZ, lambd=lambd)\n",
    "\n",
    "    elif activation == \"softmax\":\n",
    "        dZ = softmax_backward(cache=activation_cache, dA=dA)\n",
    "        dA_prev, dW, db = linear_backward(cache=linear_cache, dZ=dZ, lambd=lambd)\n",
    "\n",
    "    elif activation == \"sigmoid\":\n",
    "        dZ = sigmoid_backward(cache=activation_cache, dA=dA)\n",
    "        dA_prev, dW, db = linear_backward(cache=linear_cache, dZ=dZ, lambd=lambd)\n",
    "\n",
    "    return dA_prev, dW, db"
   ]
  },
  {
   "cell_type": "code",
   "execution_count": 19,
   "metadata": {},
   "outputs": [],
   "source": [
    "def L_model_backward_softmax(AL, Y, caches, lambd, keep_prob=1.0):\n",
    "    grads = {}\n",
    "    L = len(caches)  # the number of layers\n",
    "    m = AL.shape[1]\n",
    "    Y = Y.reshape(AL.shape)  # after this line, Y is the same shape as AL\n",
    "\n",
    "    # Initializing the backpropagation with softmax\n",
    "    dAL = AL - Y \n",
    "\n",
    "    # Lth layer (SIGMOID -> LINEAR) gradients. Inputs: \"dAL, current_cache\". Outputs: \"grads[\"dAL-1\"], grads[\"dWL\"], grads[\"dbL\"]\n",
    "    current_cache = caches[L - 1]\n",
    "    grads[\"dA\" + str(L - 1)], grads[\"dW\" + str(L)], grads[\"db\" + str(L)] = linear_activation_backward(dAL,\n",
    "                                                                                                      current_cache,\n",
    "                                                                                                      \"softmax\", lambd=lambd)\n",
    "\n",
    "    # Loop from l=L-2 to l=0\n",
    "    for l in reversed(range(L - 1)):\n",
    "        # lth layer: (RELU -> LINEAR) gradients.\n",
    "        # Inputs: \"grads[\"dA\" + str(l + 1)], current_cache\". Outputs: \"grads[\"dA\" + str(l)] , grads[\"dW\" + str(l + 1)] , grads[\"db\" + str(l + 1)]\n",
    "        ### START CODE HERE ### (approx. 5 lines)\n",
    "        current_cache = caches[l]\n",
    "        dA_prev_temp, dW_temp, db_temp = linear_activation_backward(grads[\"dA\" + str(l + 1)], current_cache, \"relu\",\n",
    "                                                                    lambd=lambd, keep_prob=keep_prob)\n",
    "        grads[\"dA\" + str(l)] = dA_prev_temp\n",
    "        grads[\"dW\" + str(l + 1)] = dW_temp\n",
    "        grads[\"db\" + str(l + 1)] = db_temp\n",
    "        ### END CODE HERE ###\n",
    "\n",
    "    return grads"
   ]
  },
  {
   "cell_type": "markdown",
   "metadata": {},
   "source": [
    "**Update Parameters:**"
   ]
  },
  {
   "cell_type": "code",
   "execution_count": 20,
   "metadata": {},
   "outputs": [],
   "source": [
    "def update_parameters(parameters, grads, learning_rate):\n",
    "    L = len(parameters) // 2  # number of layers in the neural network\n",
    "\n",
    "    # Update rule for each parameter. Use a for loop.\n",
    "    for l in range(L):\n",
    "        parameters[\"W\" + str(l + 1)] = parameters[\"W\" + str(l + 1)] - learning_rate * grads[\"dW\" + str(l + 1)]\n",
    "        parameters[\"b\" + str(l + 1)] = parameters[\"b\" + str(l + 1)] - learning_rate * grads[\"db\" + str(l + 1)]\n",
    "\n",
    "    return parameters"
   ]
  },
  {
   "cell_type": "markdown",
   "metadata": {},
   "source": [
    "**Prediction and accuracy:**"
   ]
  },
  {
   "cell_type": "code",
   "execution_count": 21,
   "metadata": {},
   "outputs": [],
   "source": [
    "def predict(X, y, parameters):\n",
    "    m = X.shape[1]\n",
    "    n = len(parameters) // 2 # number of layers in the neural network\n",
    "    p = np.zeros((m,10))\n",
    "    \n",
    "    probas, caches = L_model_forward(X, parameters) \n",
    "    probas=probas.T\n",
    "    for i in range(m):\n",
    "        for s in range(10):\n",
    "            if(probas[i][s]>=0.5):\n",
    "                p[i][s]=1\n",
    "            else:\n",
    "                p[i][s]=0\n",
    "    return p"
   ]
  },
  {
   "cell_type": "code",
   "execution_count": 22,
   "metadata": {},
   "outputs": [],
   "source": [
    "def accuracy(X,Y):\n",
    "    predictions = predict(X,Y, parameters)\n",
    "    prec=0\n",
    "    succ=[]\n",
    "    for i in range(X.shape[1]):\n",
    "        if(np.allclose(predictions[i],Y.T[i])):    \n",
    "            succ.append(i)\n",
    "        prec+=np.product(predictions[i]==Y.T[i])\n",
    "    return(succ,prec*100/X.shape[1])"
   ]
  },
  {
   "cell_type": "markdown",
   "metadata": {},
   "source": [
    "**Our Model:**"
   ]
  },
  {
   "cell_type": "code",
   "execution_count": 26,
   "metadata": {},
   "outputs": [],
   "source": [
    "def L_layer_model(X, Y, layers_dims, learning_rate=0.05, num_iterations=1000,  keep_prob=1.0, print_cost=False):\n",
    "    costs = []  # keep track of cost\n",
    "    parameters = initialize_parameters_he(layers_dims)\n",
    "    for i in range(0, num_iterations):\n",
    "\n",
    "        # Forward propagation: [LINEAR -> RELU]*(L-1) -> LINEAR -> SIGMOID.\n",
    "        AL, caches = L_model_forward(X, parameters, keep_prob)\n",
    "\n",
    "        # Compute cost with softmax.\n",
    "        lambd = 0.01\n",
    "        cost = compute_cost_softmax_with_reg(AL, parameters, lambd, Y)\n",
    "\n",
    "        # Backward propagation with softmax.\n",
    "        grads = L_model_backward_softmax(AL, Y, caches, lambd, keep_prob=1.0)\n",
    "\n",
    "        # Update parameters.\n",
    "        parameters = update_parameters(parameters, grads, learning_rate)\n",
    "\n",
    "        # Print the cost every 100 training example\n",
    "        if print_cost and (i % 100 == 0 or i == num_iterations-1):\n",
    "            print(\"Cost after iteration {}: {}\".format(i, cost))\n",
    "        if print_cost and i > 100 and (i % 1 == 0 or i == num_iterations-1):\n",
    "            costs.append(cost)\n",
    "\n",
    "    # plot the cost\n",
    "    plt.plot(np.squeeze(costs))\n",
    "    plt.ylabel('cost')\n",
    "    plt.xlabel('iterations (per hundreds)')\n",
    "    plt.title(\"Learning rate =\" + str(learning_rate))\n",
    "    plt.show(block=True)\n",
    "\n",
    "    return parameters"
   ]
  },
  {
   "cell_type": "markdown",
   "metadata": {},
   "source": [
    "Let's define the number of layers and units of our network"
   ]
  },
  {
   "cell_type": "code",
   "execution_count": 27,
   "metadata": {},
   "outputs": [],
   "source": [
    "layers_dims = [X_train.shape[0], 50, 10] "
   ]
  },
  {
   "cell_type": "markdown",
   "metadata": {},
   "source": [
    "Let's test our model now."
   ]
  },
  {
   "cell_type": "code",
   "execution_count": 28,
   "metadata": {},
   "outputs": [
    {
     "name": "stdout",
     "output_type": "stream",
     "text": [
      "Cost after iteration 0: 2.4575819693787144\n",
      "Cost after iteration 100: 0.7362171592833018\n",
      "Cost after iteration 200: 0.6123433108819883\n",
      "Cost after iteration 300: 0.5565945638377157\n",
      "Cost after iteration 400: 0.5235693977053892\n",
      "Cost after iteration 500: 0.5010051234984799\n",
      "Cost after iteration 600: 0.4841277298578019\n",
      "Cost after iteration 700: 0.470789735289196\n",
      "Cost after iteration 800: 0.4598284785575116\n",
      "Cost after iteration 900: 0.45055363207382815\n",
      "Cost after iteration 999: 0.4425751014082993\n"
     ]
    },
    {
     "data": {
      "image/png": "[encoded data removed]",
      "text/plain": [
       "<Figure size 432x288 with 1 Axes>"
      ]
     },
     "metadata": {
      "needs_background": "light"
     },
     "output_type": "display_data"
    },
    {
     "name": "stdout",
     "output_type": "stream",
     "text": [
      "0:16:49.843663\n",
      "Training accuracy: 80.08 %\n",
      "Test accuracy: 78.58 %\n"
     ]
    }
   ],
   "source": [
    "import datetime\n",
    "begin_time = datetime.datetime.now()\n",
    "parameters = L_layer_model(X_train, Y_train, layers_dims,print_cost = True)\n",
    "print(datetime.datetime.now() - begin_time)\n",
    "print(\"Training accuracy:\",accuracy(X_train,Y_train)[1],\"%\")\n",
    "print(\"Test accuracy:\",accuracy(X_test,Y_test)[1],\"%\")"
   ]
  },
  {
   "cell_type": "code",
   "execution_count": 29,
   "metadata": {},
   "outputs": [],
   "source": [
    "def plt_label(X,Y,index):\n",
    "    try:\n",
    "        Z=X.T[s]\n",
    "        img=np.array(Z)\n",
    "        plt.figure(figsize = (10,2))\n",
    "        img=img.reshape(28,28)\n",
    "        plt.imshow(img)\n",
    "        P=predict(X,Y, parameters)\n",
    "        lbl=labels[int(np.where(P[index]==1)[1])] \n",
    "        true_lbl=labels[int(Ytest_o[index])]\n",
    "        S=lbl,true_lbl\n",
    "    except:\n",
    "        S=(\"I didn't recognize the image\")\n",
    "    if(len(S)==2):\n",
    "        print(\"Prediction:\",lbl,\"\\nTrue label:\",true_lbl)\n",
    "    else:\n",
    "        print(S)"
   ]
  },
  {
   "cell_type": "code",
   "execution_count": 37,
   "metadata": {},
   "outputs": [
    {
     "name": "stdout",
     "output_type": "stream",
     "text": [
      "Prediction: Dress \n",
      "True label: Trouser\n"
     ]
    },
    {
     "data": {
      "image/png": "[encoded data removed]",
      "text/plain": [
       "<Figure size 720x144 with 1 Axes>"
      ]
     },
     "metadata": {
      "needs_background": "light"
     },
     "output_type": "display_data"
    }
   ],
   "source": [
    "s=np.random.randint(10000, size=1)\n",
    "S=plt_label(X_test,Y_test,s)"
   ]
  },
  {
   "cell_type": "code",
   "execution_count": null,
   "metadata": {},
   "outputs": [],
   "source": []
  },
  {
   "cell_type": "code",
   "execution_count": null,
   "metadata": {},
   "outputs": [],
   "source": []
  }
 ],
 "metadata": {
  "kernelspec": {
   "display_name": "Python 3",
   "language": "python",
   "name": "python3"
  },
  "language_info": {
   "codemirror_mode": {
    "name": "ipython",
    "version": 3
   },
   "file_extension": ".py",
   "mimetype": "text/x-python",
   "name": "python",
   "nbconvert_exporter": "python",
   "pygments_lexer": "ipython3",
   "version": "3.7.4"
  }
 },
 "nbformat": 4,
 "nbformat_minor": 4
}
